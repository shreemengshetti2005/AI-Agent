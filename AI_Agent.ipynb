{
  "nbformat": 4,
  "nbformat_minor": 0,
  "metadata": {
    "colab": {
      "provenance": [],
      "gpuType": "T4"
    },
    "kernelspec": {
      "name": "python3",
      "display_name": "Python 3"
    },
    "language_info": {
      "name": "python"
    },
    "accelerator": "GPU"
  },
  "cells": [
    {
      "cell_type": "code",
      "metadata": {
        "collapsed": true,
        "id": "9982594f"
      },
      "source": [
        "%pip install langchain_core langchain_google_genai langchain_community"
      ],
      "execution_count": null,
      "outputs": []
    },
    {
      "cell_type": "code",
      "metadata": {
        "id": "6777e8cf"
      },
      "source": [
        "from langchain_google_genai import ChatGoogleGenerativeAI\n",
        "from langchain_core.tools import tool\n",
        "import requests"
      ],
      "execution_count": 2,
      "outputs": []
    },
    {
      "cell_type": "code",
      "metadata": {
        "collapsed": true,
        "id": "db2557a9"
      },
      "source": [
        "%pip install -U ddgs"
      ],
      "execution_count": null,
      "outputs": []
    },
    {
      "cell_type": "code",
      "source": [
        "from langchain_community.tools import DuckDuckGoSearchRun\n",
        "\n",
        "search_tool= DuckDuckGoSearchRun()"
      ],
      "metadata": {
        "id": "7YzEDirHa6wJ"
      },
      "execution_count": 4,
      "outputs": []
    },
    {
      "cell_type": "code",
      "source": [
        "@tool\n",
        "def get_weather_data(city: str) -> str:\n",
        "    \"\"\"This Function fetches the current weather conditions for a given city.\"\"\"\n",
        "\n",
        "    url = f'http://api.weatherstack.com/current?access_key=7e52922e0e1bada607e0e7c9821b187b&query={city}'\n",
        "\n",
        "    response =requests.get(url)\n",
        "\n",
        "    return response.json()"
      ],
      "metadata": {
        "id": "dIPrvXiFcYDA"
      },
      "execution_count": 5,
      "outputs": []
    },
    {
      "cell_type": "code",
      "metadata": {
        "id": "b097cea1"
      },
      "source": [
        "import google.generativeai as genai\n",
        "\n",
        "from google.colab import userdata\n",
        "\n",
        "GOOGLE_API_KEY=userdata.get('GOOGLE_API_KEY')\n",
        "genai.configure(api_key=GOOGLE_API_KEY)"
      ],
      "execution_count": 20,
      "outputs": []
    },
    {
      "cell_type": "code",
      "metadata": {
        "id": "9c245f8d"
      },
      "source": [
        "# Initialize the Gemini API\n",
        "llm = ChatGoogleGenerativeAI(model=\"gemini-1.5-flash\")\n",
        "\n",
        "llm.invoke(\"hi,how are u?\")"
      ],
      "execution_count": null,
      "outputs": []
    },
    {
      "cell_type": "code",
      "source": [
        "from langchain.agents import create_react_agent, AgentExecutor\n",
        "from langchain import hub"
      ],
      "metadata": {
        "id": "4EBQ_XPHe7UM"
      },
      "execution_count": 15,
      "outputs": []
    },
    {
      "cell_type": "code",
      "source": [
        "prompt = hub.pull(\"hwchase17/react\")"
      ],
      "metadata": {
        "id": "MKVT9Da6fM4h"
      },
      "execution_count": 16,
      "outputs": []
    },
    {
      "cell_type": "code",
      "source": [
        "agent = create_react_agent(\n",
        "    llm=llm,\n",
        "    tools= [search_tool, get_weather_data],\n",
        "    prompt=prompt,\n",
        ")"
      ],
      "metadata": {
        "id": "fahjtbrXfm6u"
      },
      "execution_count": 17,
      "outputs": []
    },
    {
      "cell_type": "code",
      "source": [
        "agent_executor = AgentExecutor(\n",
        "    agent=agent,\n",
        "    tools= [search_tool, get_weather_data],\n",
        "    verbose=True,\n",
        ")"
      ],
      "metadata": {
        "id": "Exk_vgLNf9A_"
      },
      "execution_count": 18,
      "outputs": []
    },
    {
      "cell_type": "code",
      "source": [
        "response = agent_executor.invoke({\"input\" : \"Find capital of India, then find out its current weather condition\"})\n",
        "print(response)"
      ],
      "metadata": {
        "id": "l2_bNCXbgwhF"
      },
      "execution_count": null,
      "outputs": []
    }
  ]
}
